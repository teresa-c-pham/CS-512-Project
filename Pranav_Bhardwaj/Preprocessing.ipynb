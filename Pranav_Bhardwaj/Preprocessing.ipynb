{
 "cells": [
  {
   "cell_type": "code",
   "execution_count": 1,
   "metadata": {},
   "outputs": [],
   "source": [
    "import numpy as np\n",
    "import pandas as pd\n",
    "import matplotlib.pyplot as plt\n",
    "import seaborn as sns"
   ]
  },
  {
   "cell_type": "code",
   "execution_count": 2,
   "metadata": {},
   "outputs": [
    {
     "name": "stderr",
     "output_type": "stream",
     "text": [
      "C:\\anaconda3\\lib\\site-packages\\IPython\\core\\interactiveshell.py:3071: DtypeWarning: Columns (9) have mixed types.Specify dtype option on import or set low_memory=False.\n",
      "  has_raised = await self.run_ast_nodes(code_ast.body, cell_name,\n"
     ]
    }
   ],
   "source": [
    "data = pd.read_csv('complaints.csv')"
   ]
  },
  {
   "cell_type": "code",
   "execution_count": 3,
   "metadata": {},
   "outputs": [
    {
     "data": {
      "text/html": [
       "<div>\n",
       "<style scoped>\n",
       "    .dataframe tbody tr th:only-of-type {\n",
       "        vertical-align: middle;\n",
       "    }\n",
       "\n",
       "    .dataframe tbody tr th {\n",
       "        vertical-align: top;\n",
       "    }\n",
       "\n",
       "    .dataframe thead th {\n",
       "        text-align: right;\n",
       "    }\n",
       "</style>\n",
       "<table border=\"1\" class=\"dataframe\">\n",
       "  <thead>\n",
       "    <tr style=\"text-align: right;\">\n",
       "      <th></th>\n",
       "      <th>Date received</th>\n",
       "      <th>Product</th>\n",
       "      <th>Sub-product</th>\n",
       "      <th>Issue</th>\n",
       "      <th>Sub-issue</th>\n",
       "      <th>Consumer complaint narrative</th>\n",
       "      <th>Company public response</th>\n",
       "      <th>Company</th>\n",
       "      <th>State</th>\n",
       "      <th>ZIP code</th>\n",
       "      <th>Tags</th>\n",
       "      <th>Consumer consent provided?</th>\n",
       "      <th>Submitted via</th>\n",
       "      <th>Date sent to company</th>\n",
       "      <th>Company response to consumer</th>\n",
       "      <th>Timely response?</th>\n",
       "      <th>Consumer disputed?</th>\n",
       "      <th>Complaint ID</th>\n",
       "    </tr>\n",
       "  </thead>\n",
       "  <tbody>\n",
       "    <tr>\n",
       "      <th>0</th>\n",
       "      <td>2019-06-13</td>\n",
       "      <td>Credit reporting, credit repair services, or o...</td>\n",
       "      <td>Credit reporting</td>\n",
       "      <td>Incorrect information on your report</td>\n",
       "      <td>Information belongs to someone else</td>\n",
       "      <td>NaN</td>\n",
       "      <td>NaN</td>\n",
       "      <td>CAPITAL ONE FINANCIAL CORPORATION</td>\n",
       "      <td>PA</td>\n",
       "      <td>18640</td>\n",
       "      <td>NaN</td>\n",
       "      <td>Consent not provided</td>\n",
       "      <td>Web</td>\n",
       "      <td>2019-06-13</td>\n",
       "      <td>Closed with explanation</td>\n",
       "      <td>Yes</td>\n",
       "      <td>NaN</td>\n",
       "      <td>3274605</td>\n",
       "    </tr>\n",
       "    <tr>\n",
       "      <th>1</th>\n",
       "      <td>2019-11-01</td>\n",
       "      <td>Vehicle loan or lease</td>\n",
       "      <td>Loan</td>\n",
       "      <td>Struggling to pay your loan</td>\n",
       "      <td>Denied request to lower payments</td>\n",
       "      <td>I contacted Ally on Friday XX/XX/XXXX after fa...</td>\n",
       "      <td>Company has responded to the consumer and the ...</td>\n",
       "      <td>ALLY FINANCIAL INC.</td>\n",
       "      <td>NJ</td>\n",
       "      <td>8854</td>\n",
       "      <td>NaN</td>\n",
       "      <td>Consent provided</td>\n",
       "      <td>Web</td>\n",
       "      <td>2019-11-01</td>\n",
       "      <td>Closed with explanation</td>\n",
       "      <td>Yes</td>\n",
       "      <td>NaN</td>\n",
       "      <td>3425257</td>\n",
       "    </tr>\n",
       "    <tr>\n",
       "      <th>2</th>\n",
       "      <td>2019-04-01</td>\n",
       "      <td>Credit reporting, credit repair services, or o...</td>\n",
       "      <td>Credit reporting</td>\n",
       "      <td>Incorrect information on your report</td>\n",
       "      <td>Account status incorrect</td>\n",
       "      <td>NaN</td>\n",
       "      <td>Company has responded to the consumer and the ...</td>\n",
       "      <td>TRANSUNION INTERMEDIATE HOLDINGS, INC.</td>\n",
       "      <td>PA</td>\n",
       "      <td>19067</td>\n",
       "      <td>NaN</td>\n",
       "      <td>Consent not provided</td>\n",
       "      <td>Web</td>\n",
       "      <td>2019-04-01</td>\n",
       "      <td>Closed with explanation</td>\n",
       "      <td>Yes</td>\n",
       "      <td>NaN</td>\n",
       "      <td>3198225</td>\n",
       "    </tr>\n",
       "    <tr>\n",
       "      <th>3</th>\n",
       "      <td>2019-04-10</td>\n",
       "      <td>Credit card or prepaid card</td>\n",
       "      <td>Store credit card</td>\n",
       "      <td>Closing your account</td>\n",
       "      <td>Can't close your account</td>\n",
       "      <td>NaN</td>\n",
       "      <td>Company believes it acted appropriately as aut...</td>\n",
       "      <td>Atlanticus Services Corporation</td>\n",
       "      <td>WI</td>\n",
       "      <td>54409</td>\n",
       "      <td>Older American</td>\n",
       "      <td>NaN</td>\n",
       "      <td>Referral</td>\n",
       "      <td>2019-04-16</td>\n",
       "      <td>Closed with explanation</td>\n",
       "      <td>No</td>\n",
       "      <td>NaN</td>\n",
       "      <td>3207424</td>\n",
       "    </tr>\n",
       "    <tr>\n",
       "      <th>4</th>\n",
       "      <td>2020-04-21</td>\n",
       "      <td>Credit reporting, credit repair services, or o...</td>\n",
       "      <td>Credit reporting</td>\n",
       "      <td>Incorrect information on your report</td>\n",
       "      <td>Account information incorrect</td>\n",
       "      <td>Capital One Auto Finance incorrectly and witho...</td>\n",
       "      <td>NaN</td>\n",
       "      <td>CAPITAL ONE FINANCIAL CORPORATION</td>\n",
       "      <td>GA</td>\n",
       "      <td>30024</td>\n",
       "      <td>NaN</td>\n",
       "      <td>Consent provided</td>\n",
       "      <td>Web</td>\n",
       "      <td>2020-04-21</td>\n",
       "      <td>Closed with explanation</td>\n",
       "      <td>Yes</td>\n",
       "      <td>NaN</td>\n",
       "      <td>3616748</td>\n",
       "    </tr>\n",
       "  </tbody>\n",
       "</table>\n",
       "</div>"
      ],
      "text/plain": [
       "  Date received                                            Product  \\\n",
       "0    2019-06-13  Credit reporting, credit repair services, or o...   \n",
       "1    2019-11-01                              Vehicle loan or lease   \n",
       "2    2019-04-01  Credit reporting, credit repair services, or o...   \n",
       "3    2019-04-10                        Credit card or prepaid card   \n",
       "4    2020-04-21  Credit reporting, credit repair services, or o...   \n",
       "\n",
       "         Sub-product                                 Issue  \\\n",
       "0   Credit reporting  Incorrect information on your report   \n",
       "1               Loan           Struggling to pay your loan   \n",
       "2   Credit reporting  Incorrect information on your report   \n",
       "3  Store credit card                  Closing your account   \n",
       "4   Credit reporting  Incorrect information on your report   \n",
       "\n",
       "                             Sub-issue  \\\n",
       "0  Information belongs to someone else   \n",
       "1     Denied request to lower payments   \n",
       "2             Account status incorrect   \n",
       "3             Can't close your account   \n",
       "4        Account information incorrect   \n",
       "\n",
       "                        Consumer complaint narrative  \\\n",
       "0                                                NaN   \n",
       "1  I contacted Ally on Friday XX/XX/XXXX after fa...   \n",
       "2                                                NaN   \n",
       "3                                                NaN   \n",
       "4  Capital One Auto Finance incorrectly and witho...   \n",
       "\n",
       "                             Company public response  \\\n",
       "0                                                NaN   \n",
       "1  Company has responded to the consumer and the ...   \n",
       "2  Company has responded to the consumer and the ...   \n",
       "3  Company believes it acted appropriately as aut...   \n",
       "4                                                NaN   \n",
       "\n",
       "                                  Company State ZIP code            Tags  \\\n",
       "0       CAPITAL ONE FINANCIAL CORPORATION    PA    18640             NaN   \n",
       "1                     ALLY FINANCIAL INC.    NJ     8854             NaN   \n",
       "2  TRANSUNION INTERMEDIATE HOLDINGS, INC.    PA    19067             NaN   \n",
       "3         Atlanticus Services Corporation    WI    54409  Older American   \n",
       "4       CAPITAL ONE FINANCIAL CORPORATION    GA    30024             NaN   \n",
       "\n",
       "  Consumer consent provided? Submitted via Date sent to company  \\\n",
       "0       Consent not provided           Web           2019-06-13   \n",
       "1           Consent provided           Web           2019-11-01   \n",
       "2       Consent not provided           Web           2019-04-01   \n",
       "3                        NaN      Referral           2019-04-16   \n",
       "4           Consent provided           Web           2020-04-21   \n",
       "\n",
       "  Company response to consumer Timely response? Consumer disputed?  \\\n",
       "0      Closed with explanation              Yes                NaN   \n",
       "1      Closed with explanation              Yes                NaN   \n",
       "2      Closed with explanation              Yes                NaN   \n",
       "3      Closed with explanation               No                NaN   \n",
       "4      Closed with explanation              Yes                NaN   \n",
       "\n",
       "   Complaint ID  \n",
       "0       3274605  \n",
       "1       3425257  \n",
       "2       3198225  \n",
       "3       3207424  \n",
       "4       3616748  "
      ]
     },
     "execution_count": 3,
     "metadata": {},
     "output_type": "execute_result"
    }
   ],
   "source": [
    "data.head()"
   ]
  },
  {
   "cell_type": "code",
   "execution_count": 4,
   "metadata": {},
   "outputs": [
    {
     "data": {
      "text/plain": [
       "Date received                   object\n",
       "Product                         object\n",
       "Sub-product                     object\n",
       "Issue                           object\n",
       "Sub-issue                       object\n",
       "Consumer complaint narrative    object\n",
       "Company public response         object\n",
       "Company                         object\n",
       "State                           object\n",
       "ZIP code                        object\n",
       "Tags                            object\n",
       "Consumer consent provided?      object\n",
       "Submitted via                   object\n",
       "Date sent to company            object\n",
       "Company response to consumer    object\n",
       "Timely response?                object\n",
       "Consumer disputed?              object\n",
       "Complaint ID                     int64\n",
       "dtype: object"
      ]
     },
     "execution_count": 4,
     "metadata": {},
     "output_type": "execute_result"
    }
   ],
   "source": [
    "data.dtypes"
   ]
  },
  {
   "cell_type": "code",
   "execution_count": 5,
   "metadata": {},
   "outputs": [
    {
     "data": {
      "text/plain": [
       "Index(['Date received', 'Product', 'Sub-product', 'Issue', 'Sub-issue',\n",
       "       'Consumer complaint narrative', 'Company public response', 'Company',\n",
       "       'State', 'ZIP code', 'Tags', 'Consumer consent provided?',\n",
       "       'Submitted via', 'Date sent to company', 'Company response to consumer',\n",
       "       'Timely response?', 'Consumer disputed?', 'Complaint ID'],\n",
       "      dtype='object')"
      ]
     },
     "execution_count": 5,
     "metadata": {},
     "output_type": "execute_result"
    }
   ],
   "source": [
    "data.columns"
   ]
  },
  {
   "cell_type": "code",
   "execution_count": 6,
   "metadata": {},
   "outputs": [],
   "source": [
    "useless_attr = ['Date received', 'Company', 'State', 'ZIP code', 'Consumer consent provided?', 'Submitted via', 'Date sent to company', 'Timely response?', 'Complaint ID']"
   ]
  },
  {
   "cell_type": "code",
   "execution_count": 7,
   "metadata": {},
   "outputs": [],
   "source": [
    "data = data.drop(useless_attr,axis=1)"
   ]
  },
  {
   "cell_type": "code",
   "execution_count": 8,
   "metadata": {},
   "outputs": [
    {
     "data": {
      "text/html": [
       "<div>\n",
       "<style scoped>\n",
       "    .dataframe tbody tr th:only-of-type {\n",
       "        vertical-align: middle;\n",
       "    }\n",
       "\n",
       "    .dataframe tbody tr th {\n",
       "        vertical-align: top;\n",
       "    }\n",
       "\n",
       "    .dataframe thead th {\n",
       "        text-align: right;\n",
       "    }\n",
       "</style>\n",
       "<table border=\"1\" class=\"dataframe\">\n",
       "  <thead>\n",
       "    <tr style=\"text-align: right;\">\n",
       "      <th></th>\n",
       "      <th>Product</th>\n",
       "      <th>Sub-product</th>\n",
       "      <th>Issue</th>\n",
       "      <th>Sub-issue</th>\n",
       "      <th>Consumer complaint narrative</th>\n",
       "      <th>Company public response</th>\n",
       "      <th>Tags</th>\n",
       "      <th>Company response to consumer</th>\n",
       "      <th>Consumer disputed?</th>\n",
       "    </tr>\n",
       "  </thead>\n",
       "  <tbody>\n",
       "    <tr>\n",
       "      <th>0</th>\n",
       "      <td>Credit reporting, credit repair services, or o...</td>\n",
       "      <td>Credit reporting</td>\n",
       "      <td>Incorrect information on your report</td>\n",
       "      <td>Information belongs to someone else</td>\n",
       "      <td>NaN</td>\n",
       "      <td>NaN</td>\n",
       "      <td>NaN</td>\n",
       "      <td>Closed with explanation</td>\n",
       "      <td>NaN</td>\n",
       "    </tr>\n",
       "    <tr>\n",
       "      <th>1</th>\n",
       "      <td>Vehicle loan or lease</td>\n",
       "      <td>Loan</td>\n",
       "      <td>Struggling to pay your loan</td>\n",
       "      <td>Denied request to lower payments</td>\n",
       "      <td>I contacted Ally on Friday XX/XX/XXXX after fa...</td>\n",
       "      <td>Company has responded to the consumer and the ...</td>\n",
       "      <td>NaN</td>\n",
       "      <td>Closed with explanation</td>\n",
       "      <td>NaN</td>\n",
       "    </tr>\n",
       "    <tr>\n",
       "      <th>2</th>\n",
       "      <td>Credit reporting, credit repair services, or o...</td>\n",
       "      <td>Credit reporting</td>\n",
       "      <td>Incorrect information on your report</td>\n",
       "      <td>Account status incorrect</td>\n",
       "      <td>NaN</td>\n",
       "      <td>Company has responded to the consumer and the ...</td>\n",
       "      <td>NaN</td>\n",
       "      <td>Closed with explanation</td>\n",
       "      <td>NaN</td>\n",
       "    </tr>\n",
       "    <tr>\n",
       "      <th>3</th>\n",
       "      <td>Credit card or prepaid card</td>\n",
       "      <td>Store credit card</td>\n",
       "      <td>Closing your account</td>\n",
       "      <td>Can't close your account</td>\n",
       "      <td>NaN</td>\n",
       "      <td>Company believes it acted appropriately as aut...</td>\n",
       "      <td>Older American</td>\n",
       "      <td>Closed with explanation</td>\n",
       "      <td>NaN</td>\n",
       "    </tr>\n",
       "    <tr>\n",
       "      <th>4</th>\n",
       "      <td>Credit reporting, credit repair services, or o...</td>\n",
       "      <td>Credit reporting</td>\n",
       "      <td>Incorrect information on your report</td>\n",
       "      <td>Account information incorrect</td>\n",
       "      <td>Capital One Auto Finance incorrectly and witho...</td>\n",
       "      <td>NaN</td>\n",
       "      <td>NaN</td>\n",
       "      <td>Closed with explanation</td>\n",
       "      <td>NaN</td>\n",
       "    </tr>\n",
       "  </tbody>\n",
       "</table>\n",
       "</div>"
      ],
      "text/plain": [
       "                                             Product        Sub-product  \\\n",
       "0  Credit reporting, credit repair services, or o...   Credit reporting   \n",
       "1                              Vehicle loan or lease               Loan   \n",
       "2  Credit reporting, credit repair services, or o...   Credit reporting   \n",
       "3                        Credit card or prepaid card  Store credit card   \n",
       "4  Credit reporting, credit repair services, or o...   Credit reporting   \n",
       "\n",
       "                                  Issue                            Sub-issue  \\\n",
       "0  Incorrect information on your report  Information belongs to someone else   \n",
       "1           Struggling to pay your loan     Denied request to lower payments   \n",
       "2  Incorrect information on your report             Account status incorrect   \n",
       "3                  Closing your account             Can't close your account   \n",
       "4  Incorrect information on your report        Account information incorrect   \n",
       "\n",
       "                        Consumer complaint narrative  \\\n",
       "0                                                NaN   \n",
       "1  I contacted Ally on Friday XX/XX/XXXX after fa...   \n",
       "2                                                NaN   \n",
       "3                                                NaN   \n",
       "4  Capital One Auto Finance incorrectly and witho...   \n",
       "\n",
       "                             Company public response            Tags  \\\n",
       "0                                                NaN             NaN   \n",
       "1  Company has responded to the consumer and the ...             NaN   \n",
       "2  Company has responded to the consumer and the ...             NaN   \n",
       "3  Company believes it acted appropriately as aut...  Older American   \n",
       "4                                                NaN             NaN   \n",
       "\n",
       "  Company response to consumer Consumer disputed?  \n",
       "0      Closed with explanation                NaN  \n",
       "1      Closed with explanation                NaN  \n",
       "2      Closed with explanation                NaN  \n",
       "3      Closed with explanation                NaN  \n",
       "4      Closed with explanation                NaN  "
      ]
     },
     "execution_count": 8,
     "metadata": {},
     "output_type": "execute_result"
    }
   ],
   "source": [
    "data.head()"
   ]
  },
  {
   "cell_type": "code",
   "execution_count": 9,
   "metadata": {},
   "outputs": [
    {
     "data": {
      "text/plain": [
       "Servicemember                    155277\n",
       "Older American                   110447\n",
       "Older American, Servicemember     24748\n",
       "Name: Tags, dtype: int64"
      ]
     },
     "execution_count": 9,
     "metadata": {},
     "output_type": "execute_result"
    }
   ],
   "source": [
    "data['Tags'].value_counts()"
   ]
  },
  {
   "cell_type": "code",
   "execution_count": 10,
   "metadata": {},
   "outputs": [
    {
     "data": {
      "text/plain": [
       "2105561"
      ]
     },
     "execution_count": 10,
     "metadata": {},
     "output_type": "execute_result"
    }
   ],
   "source": [
    "data['Tags'].isnull().sum()"
   ]
  },
  {
   "cell_type": "code",
   "execution_count": 11,
   "metadata": {},
   "outputs": [
    {
     "name": "stdout",
     "output_type": "stream",
     "text": [
      "---------- Product ----------\n",
      "Credit reporting, credit repair services, or other personal consumer reports    905199\n",
      "Debt collection                                                                 397753\n",
      "Mortgage                                                                        343338\n",
      "Credit reporting                                                                140431\n",
      "Credit card or prepaid card                                                     129578\n",
      "Checking or savings account                                                     107787\n",
      "Credit card                                                                      89190\n",
      "Bank account or service                                                          86206\n",
      "Student loan                                                                     64201\n",
      "Money transfer, virtual currency, or money service                               35448\n",
      "Consumer Loan                                                                    31600\n",
      "Vehicle loan or lease                                                            29565\n",
      "Payday loan, title loan, or personal loan                                        19945\n",
      "Payday loan                                                                       5543\n",
      "Money transfers                                                                   5354\n",
      "Prepaid card                                                                      3819\n",
      "Other financial service                                                           1058\n",
      "Virtual currency                                                                    18\n",
      "Name: Product, dtype: int64\n",
      "\n",
      "\n",
      "---------- Sub-product ----------\n",
      "Credit reporting                              894276\n",
      "Checking account                              143053\n",
      "General-purpose credit card or charge card     97112\n",
      "Other mortgage                                 86635\n",
      "I do not know                                  85973\n",
      "                                               ...  \n",
      "Credit repair                                    102\n",
      "Traveler’s/Cashier’s checks                       88\n",
      "Transit card                                      37\n",
      "Student prepaid card                              21\n",
      "Electronic Benefit Transfer / EBT card            12\n",
      "Name: Sub-product, Length: 76, dtype: int64\n",
      "\n",
      "\n",
      "---------- Issue ----------\n",
      "Incorrect information on your report                                                555620\n",
      "Problem with a credit reporting company's investigation into an existing problem    248401\n",
      "Attempts to collect debt not owed                                                   124126\n",
      "Loan modification,collection,foreclosure                                            112309\n",
      "Incorrect information on credit report                                              102686\n",
      "                                                                                     ...  \n",
      "Lender damaged or destroyed vehicle                                                      8\n",
      "Lender sold the property                                                                 7\n",
      "Problem with an overdraft                                                                7\n",
      "Property was damaged or destroyed property                                               6\n",
      "Lender damaged or destroyed property                                                     3\n",
      "Name: Issue, Length: 165, dtype: int64\n",
      "\n",
      "\n",
      "---------- Sub-issue ----------\n",
      "Information belongs to someone else                                                 349749\n",
      "Their investigation did not fix an error on your report                             128656\n",
      "Account status incorrect                                                             68847\n",
      "Account information incorrect                                                        65001\n",
      "Debt is not yours                                                                    62383\n",
      "                                                                                     ...  \n",
      "Insurance terms                                                                          6\n",
      "Was signed up for overdraft on card, but don't want to be                                4\n",
      "Problem with a credit reporting company's investigation into an existing problem         3\n",
      "Improper use of your report                                                              1\n",
      "Credit monitoring or identity theft protection services                                  1\n",
      "Name: Sub-issue, Length: 221, dtype: int64\n",
      "\n",
      "\n",
      "---------- Consumer complaint narrative ----------\n",
      "There are many mistakes appear in my report without my understanding.                                                                                                                                                                                                                                                                                                                                                                                                                                                                                                                                                                                                                                                                                                                                                                                                                                                                                                                                                                                                                                                                                                                                                                                                                                                                                                                                                                                                                                                                                                                                                                                                                                                                                                                                                                                                                                                                                                                                                                                                                                                                                                                                                                                                                                                                                                                                                                                                                                                                                                                                                                                                                                                                                                                                                                                                                                                                                                                                                                                                                                                                                                                                                                                                                                                                                                                                                                                                                                                                                                                                                                                                                                                                                                                                                                                                                                                                                                                                                                                1035\n",
      "I am a victim of identity theft/fraud. I have notified the collection agencies/original creditors several times that the accounts do not belong to me. I have not in any way received goods or services from these companies and I have provided my police reports, my FTC id theft affidavit signed and notarized along with my sworn statement regarding the fraudulent accounts. Documents have been submitted to all credit bureaus.                                                                                                                                                                                                                                                                                                                                                                                                                                                                                                                                                                                                                                                                                                                                                                                                                                                                                                                                                                                                                                                                                                                                                                                                                                                                                                                                                                                                                                                                                                                                                                                                                                                                                                                                                                                                                                                                                                                                                                                                                                                                                                                                                                                                                                                                                                                                                                                                                                                                                                                                                                                                                                                                                                                                                                                                                                                                                                                                                                                                                                                                                                                                                                                                                                                                                                                                                                                                                                                                                                                                                                                                              843\n",
      "My credit profile is inaccurate which is not fair to me. Please investigate this and fix it. Im really sick and tired of these XXXX. Should there be any updates on my inquiries, Im gon na go to court                                                                                                                                                                                                                                                                                                                                                                                                                                                                                                                                                                                                                                                                                                                                                                                                                                                                                                                                                                                                                                                                                                                                                                                                                                                                                                                                                                                                                                                                                                                                                                                                                                                                                                                                                                                                                                                                                                                                                                                                                                                                                                                                                                                                                                                                                                                                                                                                                                                                                                                                                                                                                                                                                                                                                                                                                                                                                                                                                                                                                                                                                                                                                                                                                                                                                                                                                                                                                                                                                                                                                                                                                                                                                                                                                                                                                                               732\n",
      "ATTN Collections Dept I am submitting a complaint in reference to this company knowingly reporting inaccurate data. My credit profile is affected by these penalties, preventing my creditworthiness, due to these companies. I demand proof of the purchasing agreement? Valid Authorization/ proof of alleged debt. Reporting without valid proper disclosure requirements are in direct violation of my consumer rights. I legally requested a description of the details of the verification process used to verify this alleged account. Federal law requires you to respond in thirty ( 30 ) days to failure to comply with these federal regulations by the FTC U.S C41, et esq. I am maintaining a careful record on my communication with your company. Thank you, I look forward to resolving this expeditiously                                                                                                                                                                                                                                                                                                                                                                                                                                                                                                                                                                                                                                                                                                                                                                                                                                                                                                                                                                                                                                                                                                                                                                                                                                                                                                                                                                                                                                                                                                                                                                                                                                                                                                                                                                                                                                                                                                                                                                                                                                                                                                                                                                                                                                                                                                                                                                                                                                                                                                                                                                                                                                                                                                                                                                                                                                                                                                                                                                                                                                                                                                                                                                                                                            691\n",
      "The credit bureaus are reporting inaccurate/outdated/incomplete personal information.                                                                                                                                                                                                                                                                                                                                                                                                                                                                                                                                                                                                                                                                                                                                                                                                                                                                                                                                                                                                                                                                                                                                                                                                                                                                                                                                                                                                                                                                                                                                                                                                                                                                                                                                                                                                                                                                                                                                                                                                                                                                                                                                                                                                                                                                                                                                                                                                                                                                                                                                                                                                                                                                                                                                                                                                                                                                                                                                                                                                                                                                                                                                                                                                                                                                                                                                                                                                                                                                                                                                                                                                                                                                                                                                                                                                                                                                                                                                                                 552\n",
      "                                                                                                                                                                                                                                                                                                                                                                                                                                                                                                                                                                                                                                                                                                                                                                                                                                                                                                                                                                                                                                                                                                                                                                                                                                                                                                                                                                                                                                                                                                                                                                                                                                                                                                                                                                                                                                                                                                                                                                                                                                                                                                                                                                                                                                                                                                                                                                                                                                                                                                                                                                                                                                                                                                                                                                                                                                                                                                                                                                                                                                                                                                                                                                                                                                                                                                                                                                                                                                                                                                                                                                                                                                                                                                                                                                                                                                                                                                                                                                                                                                                     ... \n",
      "After reviewing documents requested from company under the name : Portfolio recovery and associates inc. I have noticed multiple inaccuracies and violation under the consumer laws. As a result, I hereby challenge any claim that may owe ; the company. \\n\\nReason ; the company has my name & address inaccurately ; violation The company has inaccurate, misleading amounts owed ; violation The company has not provided proof that statue of limitations has not passed in my resident state ; violation Company has not provided required license or bond to collect a debt in my state of Florida ; violation Company has not provided documents of which may show my signature as proof that I agreed to pay what the company claims I owe ; a violation of FDCPA                                                                                                                                                                                                                                                                                                                                                                                                                                                                                                                                                                                                                                                                                                                                                                                                                                                                                                                                                                                                                                                                                                                                                                                                                                                                                                                                                                                                                                                                                                                                                                                                                                                                                                                                                                                                                                                                                                                                                                                                                                                                                                                                                                                                                                                                                                                                                                                                                                                                                                                                                                                                                                                                                                                                                                                                                                                                                                                                                                                                                                                                                                                                                                                                                                                                            1\n",
      "Debt collector calling me several times a day from several different numbers after I've blocked them. They've called my daughter which I have no idea how they got her number. This is XXXX XXXX XXXX. The call comes across as \" SCAM LIKELY. \" : The caller states her name is XXXX XXXX. I've advised that my debt to XXXX XXXX XXXX was paid back in XX/XX/2017 and I have a pay off letter. She has threatened felonys and garnishment telling me they have my wage information. \\n\\nShe is calling from.XXXX/XXXX/XXXX. \\n\\nStates correspondence has been sent via mail which is not true.                                                                                                                                                                                                                                                                                                                                                                                                                                                                                                                                                                                                                                                                                                                                                                                                                                                                                                                                                                                                                                                                                                                                                                                                                                                                                                                                                                                                                                                                                                                                                                                                                                                                                                                                                                                                                                                                                                                                                                                                                                                                                                                                                                                                                                                                                                                                                                                                                                                                                                                                                                                                                                                                                                                                                                                                                                                                                                                                                                                                                                                                                                                                                                                                                                                                                                                                                                                                                                                       1\n",
      "Dear Consumer Financial Protection Bureau, CFPB : XXXX VISA ( XXXX ONLINE PURCHASE  ) is trying to steal money from my BBVA Debit card ending in XXXX. I purchased XXXX products on XX/XX/2020. The total for purchase ( after returning 2 items ) is {$59.00}. \\n\\nSummary : 2 items from order numbers ( XXXX ORDER : XXXX THROUGH XXXX ORDER : XXXX ), have been returned. \\n\\n( 1 ) XXXX XXXX XXXX ( CHESTNUT ) WERE DAMAGED, AND ( 2 ) XXXX XXXX XXXX XXXX XXXX ( NOT WANTED, WRONG SIZE ) Both XXXX AND XXXX ARE REFUSING TO ISSUE REFUND REGUND {$26.00} ( what I Am Due ). The XXXX XXXX XXXXs purchased ( Cost : {$75.00} XXXX {$20.00} REWARD COUPON, Tax {$4.00}, TOTAL : XXXX ). XXXX HAS SLREADY DEBITED MY BBVA CARD {$86.00} ( 1 installment of {$350.00} ) ; however, with the returns, I MO LONGER OWE THEM, THEY OWE ME {$26.00} I have contacted both XXXX ( telephone and email ) and XXXX to no avail. XXXX IS STILL TRYINGVTO STEAL MONEY I DO NOT OWE THEM. \\n\\nNOT {$26.00}. PLEASE SUCCESSFULLY PROCESS {$26.00} ( ADDITIONAL XXXX ). XXXX, YOU DO NOT HAVE AUTHORIZATION TO DEBIT FORM OF PAYMENT BBVA CARD ENDING IN XXXX FOR XXXX ORDER : XXXX, XXXX ORDER : XXXX. \\n\\nBBVA has been contacted and a dispute filed XX/XX/2020 ( MONDAY, TICKET NUMBER XXXX ). They are refusing to come into comportment with REGULATION E. I have to eat, they are too UNCOOPERATIVE. \\n\\n\\nSincerely and Respectfully, XXXX XXXX XXXX Phone : XXXX Email : XXXX XXXX                                                                                                                                                                                                                                                                                                                                                                                                                                                                                                                                                                                                                                                                                                                                                                                                                                                                                                                                                                                                                                                                                                                                                                                                                                                                                                                                                                                                                                                                                                                                                                                                                                                                                                                                                                                                                                                                                                                                                                                                                                                                                                                                                                                                                                                                                                                                                                                                                                                                                                                                                                      1\n",
      "Submitted complaint to all 3 credit reporting agencies in regards to XXXX reporting an open account on my credit. They are a third party collection agency. I do not and have not ever had an open account with them. Asked credit reports to validate the debt not verify with a 2 digit code system. All three failed to do so within 30 days. They verified not validated and still reporting on the credit as an open account. Again, a third party collection agency who was unable to validate the debt I disputed with them before I went to the credit reporting agencies still ca n't validate. They are doing a computer 2 digit verify code                                                                                                                                                                                                                                                                                                                                                                                                                                                                                                                                                                                                                                                                                                                                                                                                                                                                                                                                                                                                                                                                                                                                                                                                                                                                                                                                                                                                                                                                                                                                                                                                                                                                                                                                                                                                                                                                                                                                                                                                                                                                                                                                                                                                                                                                                                                                                                                                                                                                                                                                                                                                                                                                                                                                                                                                                                                                                                                                                                                                                                                                                                                                                                                                                                                                                                                                                                                                  1\n",
      "I started my home buying process and was referred to XXXX XXXX ( Branch Manager ) XXXX # XXXX at NFM Lending in XXXX, MA XXXX. He was able to get me a pre approval and told me to start looking for home so we could get the process started. My wife and I found a home not to long after and submitted an offer which was accepted, Purchase and Sales agreement was signed by both parties and sent over to him on XXXX XXXX. As soon as I received the short sale approval on XXXX XXXX I contacted XXXX so that we could move forward as XXXX set a closing date of XXXX XXXX, 2016. He told me that I needed to get a contractor into the property to get a proposal as soon as possible because we were doing a XXXX loan since the home needed some renovation and he would send me a loan application that day so we can start getting the loan in process and into closing. I was able to get a contractor into the property by XXXX XXXX which was about a week after I had sent him the short sale approval. I tried to contact him multiple with no success to find out why I had n't received the application. On XXXX XXXX I finally received a text after I had contacted him again and he replied \" Hey ... I am in an apt right now. I 'll call you shortly. '' which was at XXXX and never heard back from him again that day. I kept calling still with no success until XXXX XXXX after I had called him and he replied back in a text \" XXXX. I 'll call you back. '' which was at XXXX and I replied \" Ok. Thanks '' at XXXX and he text me again at XXXX letting me know he spoke to my realtor XXXX with the following : \" I just spoke to XXXX. We are going to go. The head of your file in hopes that sellers will give us an extension. Your file is next in line I will get it out today for you to e-sign ''. Mind you at this point we are less then two weeks away from the closing date XXXX had set on the short sale approval and he still has not sent me the application to e-sign. My realtor, the listing agent and I had no success getting in touch with him for an update until XXXX XXXX ... At XXXX that same day I text him \" Hey XXXX. I did n't receive the application yet. '' And I never received a reply. I called him again multiple times and left him multiple messages and he finally sent me a text reply back on XXXX XXXX \" Can I call you later? '' which was at XXXX. He spoke to to XXXX later on that day and she let him know that we needed to get the loan in process and into closing by XXXX XXXX because XXXX would not allow an extension as he had more then enough time to do his job which he never did. He told her that he would email and call XXXX and speak to the short sale specialist to get us an extension. Finally he text me on XXXX XXXX at XXXX \" Left the guy another voicemail and sent him another email. I have not heard back yet. I will call this guy every hour today if I need to to get them on the phone. I will keep you posted ''. Again I never heard back from him that day and the next day I text him \" Can you call XXXX asap? '' She is waiting on your call '' and then again on XXXX XXXX \" XXXX needs to talk to you asap. Please give her a call. Thanks '' and he replied back shortly after \" I just called her and left her a voicemail. I also sent her a text message. '' About 10 minutes later he text me \" I just spoke to XXXX. She is calling the bank and requesting an extension. If they grant you this extension then we will hustle to get this done. '' XXXX spoke to XXXX and and granted us an extension until XXXX XXXX. I called and spoke to him letting him know we were only able to get a week extension and he said he would call XXXX. It 's now XXXX XXXX and I still have not heard back from him and lost a chance at my dream home. My XXXX XXXX daughters ask me everyday when we will be moving into our new home and I have to tell them that we are no longer moving into that home ... Terrible       1\n",
      "Name: Consumer complaint narrative, Length: 748939, dtype: int64\n",
      "\n",
      "\n",
      "---------- Company public response ----------\n",
      "Company has responded to the consumer and the CFPB and chooses not to provide a public response                            792233\n",
      "Company believes it acted appropriately as authorized by contract or law                                                    98448\n",
      "Company chooses not to provide a public response                                                                            52473\n",
      "Company believes the complaint is the result of a misunderstanding                                                           9542\n",
      "Company disputes the facts presented in the complaint                                                                        8027\n",
      "Company believes complaint caused principally by actions of third party outside the control or direction of the company      6433\n",
      "Company believes complaint is the result of an isolated error                                                                5250\n",
      "Company believes complaint represents an opportunity for improvement to better serve consumers                               3784\n",
      "Company can't verify or dispute the facts in the complaint                                                                   3471\n",
      "Company believes the complaint provided an opportunity to answer consumer's questions                                        1634\n",
      "Company believes complaint relates to a discontinued policy or procedure                                                       93\n",
      "Name: Company public response, dtype: int64\n",
      "\n",
      "\n",
      "---------- Tags ----------\n"
     ]
    },
    {
     "name": "stdout",
     "output_type": "stream",
     "text": [
      "Servicemember                    155277\n",
      "Older American                   110447\n",
      "Older American, Servicemember     24748\n",
      "Name: Tags, dtype: int64\n",
      "\n",
      "\n",
      "---------- Company response to consumer ----------\n",
      "Closed with explanation            1973090\n",
      "Closed with non-monetary relief     248447\n",
      "Closed with monetary relief         108022\n",
      "Closed without relief                17868\n",
      "Closed                               17611\n",
      "In progress                          16455\n",
      "Untimely response                     9233\n",
      "Closed with relief                    5304\n",
      "Name: Company response to consumer, dtype: int64\n",
      "\n",
      "\n",
      "---------- Consumer disputed? ----------\n",
      "No     620081\n",
      "Yes    148378\n",
      "Name: Consumer disputed?, dtype: int64\n",
      "\n",
      "\n"
     ]
    }
   ],
   "source": [
    "#having a loook into the values of count of each columns and there count in respect to NoShow column\n",
    "for i, predictor in enumerate(data):\n",
    "    print('-'*10,predictor,'-'*10)\n",
    "    print(data[predictor].value_counts()) \n",
    "    print('\\n')"
   ]
  },
  {
   "cell_type": "code",
   "execution_count": 12,
   "metadata": {},
   "outputs": [
    {
     "data": {
      "text/plain": [
       "<matplotlib.axes._subplots.AxesSubplot at 0x2108f3807f0>"
      ]
     },
     "execution_count": 12,
     "metadata": {},
     "output_type": "execute_result"
    },
    {
     "data": {
      "image/png": "[encoded data removed]",
      "text/plain": [
       "<Figure size 432x288 with 1 Axes>"
      ]
     },
     "metadata": {
      "needs_background": "light"
     },
     "output_type": "display_data"
    }
   ],
   "source": [
    " sns.countplot(data=data, x='Company response to consumer', hue='Consumer disputed?')"
   ]
  },
  {
   "cell_type": "code",
   "execution_count": 13,
   "metadata": {},
   "outputs": [
    {
     "data": {
      "text/plain": [
       "Product                         0.000000\n",
       "Sub-product                     0.098147\n",
       "Issue                           0.000000\n",
       "Sub-issue                       0.267567\n",
       "Consumer complaint narrative    0.651420\n",
       "Company public response         0.590411\n",
       "Tags                            0.878770\n",
       "Company response to consumer    0.000001\n",
       "Consumer disputed?              0.679279\n",
       "dtype: float64"
      ]
     },
     "execution_count": 13,
     "metadata": {},
     "output_type": "execute_result"
    }
   ],
   "source": [
    "data.isnull().sum()/len(data)"
   ]
  },
  {
   "cell_type": "code",
   "execution_count": 14,
   "metadata": {},
   "outputs": [
    {
     "data": {
      "text/plain": [
       "2396033"
      ]
     },
     "execution_count": 14,
     "metadata": {},
     "output_type": "execute_result"
    }
   ],
   "source": [
    "len(data)"
   ]
  },
  {
   "cell_type": "code",
   "execution_count": 15,
   "metadata": {},
   "outputs": [
    {
     "data": {
      "text/plain": [
       "Product                               0\n",
       "Sub-product                      235164\n",
       "Issue                                 0\n",
       "Sub-issue                        641100\n",
       "Consumer complaint narrative    1560823\n",
       "Company public response         1414645\n",
       "Tags                            2105561\n",
       "Company response to consumer          3\n",
       "Consumer disputed?              1627574\n",
       "dtype: int64"
      ]
     },
     "execution_count": 15,
     "metadata": {},
     "output_type": "execute_result"
    }
   ],
   "source": [
    "data.isnull().sum()"
   ]
  },
  {
   "cell_type": "code",
   "execution_count": 17,
   "metadata": {},
   "outputs": [
    {
     "data": {
      "text/plain": [
       "No     620081\n",
       "Yes    148378\n",
       "Name: Consumer disputed?, dtype: int64"
      ]
     },
     "execution_count": 17,
     "metadata": {},
     "output_type": "execute_result"
    }
   ],
   "source": [
    "data['Consumer disputed?'].value_counts()"
   ]
  },
  {
   "cell_type": "code",
   "execution_count": 19,
   "metadata": {},
   "outputs": [],
   "source": [
    "data = data.dropna(subset=['Consumer complaint narrative'])"
   ]
  },
  {
   "cell_type": "code",
   "execution_count": 20,
   "metadata": {},
   "outputs": [
    {
     "data": {
      "text/plain": [
       "Product                              0\n",
       "Sub-product                      52172\n",
       "Issue                                0\n",
       "Sub-issue                       171673\n",
       "Consumer complaint narrative         0\n",
       "Company public response         432740\n",
       "Tags                            702275\n",
       "Company response to consumer         1\n",
       "Consumer disputed?              671148\n",
       "dtype: int64"
      ]
     },
     "execution_count": 20,
     "metadata": {},
     "output_type": "execute_result"
    }
   ],
   "source": [
    "data.isnull().sum()"
   ]
  },
  {
   "cell_type": "code",
   "execution_count": 21,
   "metadata": {},
   "outputs": [
    {
     "data": {
      "text/plain": [
       "No     128255\n",
       "Yes     35807\n",
       "Name: Consumer disputed?, dtype: int64"
      ]
     },
     "execution_count": 21,
     "metadata": {},
     "output_type": "execute_result"
    }
   ],
   "source": [
    "data['Consumer disputed?'].value_counts()"
   ]
  },
  {
   "cell_type": "code",
   "execution_count": 22,
   "metadata": {},
   "outputs": [],
   "source": [
    "data = data.drop(['Sub-product','Sub-issue','Company public response','Tags'],axis = 1)"
   ]
  },
  {
   "cell_type": "code",
   "execution_count": 23,
   "metadata": {},
   "outputs": [
    {
     "data": {
      "text/plain": [
       "Product                              0\n",
       "Issue                                0\n",
       "Consumer complaint narrative         0\n",
       "Company response to consumer         1\n",
       "Consumer disputed?              671148\n",
       "dtype: int64"
      ]
     },
     "execution_count": 23,
     "metadata": {},
     "output_type": "execute_result"
    }
   ],
   "source": [
    "data.isnull().sum()"
   ]
  },
  {
   "cell_type": "code",
   "execution_count": 24,
   "metadata": {},
   "outputs": [
    {
     "data": {
      "text/plain": [
       "No     128255\n",
       "Yes     35807\n",
       "Name: Consumer disputed?, dtype: int64"
      ]
     },
     "execution_count": 24,
     "metadata": {},
     "output_type": "execute_result"
    }
   ],
   "source": [
    "data['Consumer disputed?'].value_counts()"
   ]
  },
  {
   "cell_type": "code",
   "execution_count": 25,
   "metadata": {},
   "outputs": [
    {
     "data": {
      "text/plain": [
       "835210"
      ]
     },
     "execution_count": 25,
     "metadata": {},
     "output_type": "execute_result"
    }
   ],
   "source": [
    "len(data)"
   ]
  },
  {
   "cell_type": "code",
   "execution_count": 26,
   "metadata": {},
   "outputs": [
    {
     "data": {
      "text/plain": [
       "<matplotlib.axes._subplots.AxesSubplot at 0x2108f5ee8e0>"
      ]
     },
     "execution_count": 26,
     "metadata": {},
     "output_type": "execute_result"
    },
    {
     "data": {
      "image/png": "[encoded data removed]",
      "text/plain": [
       "<Figure size 432x288 with 1 Axes>"
      ]
     },
     "metadata": {
      "needs_background": "light"
     },
     "output_type": "display_data"
    }
   ],
   "source": [
    " sns.countplot(data=data, x='Company response to consumer', hue='Consumer disputed?')"
   ]
  },
  {
   "cell_type": "code",
   "execution_count": 27,
   "metadata": {},
   "outputs": [
    {
     "data": {
      "text/plain": [
       "Product                         0.000000\n",
       "Issue                           0.000000\n",
       "Consumer complaint narrative    0.000000\n",
       "Company response to consumer    0.000001\n",
       "Consumer disputed?              0.803568\n",
       "dtype: float64"
      ]
     },
     "execution_count": 27,
     "metadata": {},
     "output_type": "execute_result"
    }
   ],
   "source": [
    "data.isnull().sum()/len(data)"
   ]
  },
  {
   "cell_type": "code",
   "execution_count": 28,
   "metadata": {},
   "outputs": [
    {
     "data": {
      "text/plain": [
       "Credit reporting, credit repair services, or other personal consumer reports    329868\n",
       "Debt collection                                                                 161972\n",
       "Mortgage                                                                         86156\n",
       "Credit card or prepaid card                                                      63095\n",
       "Checking or savings account                                                      38986\n",
       "Credit reporting                                                                 31588\n",
       "Student loan                                                                     29430\n",
       "Money transfer, virtual currency, or money service                               19488\n",
       "Credit card                                                                      18838\n",
       "Vehicle loan or lease                                                            15659\n",
       "Bank account or service                                                          14885\n",
       "Payday loan, title loan, or personal loan                                        10774\n",
       "Consumer Loan                                                                     9470\n",
       "Payday loan                                                                       1746\n",
       "Money transfers                                                                   1497\n",
       "Prepaid card                                                                      1450\n",
       "Other financial service                                                            292\n",
       "Virtual currency                                                                    16\n",
       "Name: Product, dtype: int64"
      ]
     },
     "execution_count": 28,
     "metadata": {},
     "output_type": "execute_result"
    }
   ],
   "source": [
    "data['Product'].value_counts()"
   ]
  },
  {
   "cell_type": "code",
   "execution_count": 29,
   "metadata": {},
   "outputs": [
    {
     "data": {
      "text/plain": [
       "Incorrect information on your report                                                182370\n",
       "Problem with a credit reporting company's investigation into an existing problem    103300\n",
       "Attempts to collect debt not owed                                                    56943\n",
       "Improper use of your report                                                          35991\n",
       "Trouble during payment process                                                       24933\n",
       "                                                                                     ...  \n",
       "Property was damaged or destroyed property                                               5\n",
       "Lender sold the property                                                                 3\n",
       "Problem with an overdraft                                                                3\n",
       "Lender damaged or destroyed vehicle                                                      2\n",
       "Lender damaged or destroyed property                                                     1\n",
       "Name: Issue, Length: 160, dtype: int64"
      ]
     },
     "execution_count": 29,
     "metadata": {},
     "output_type": "execute_result"
    }
   ],
   "source": [
    "data['Issue'].value_counts()"
   ]
  },
  {
   "cell_type": "code",
   "execution_count": 30,
   "metadata": {},
   "outputs": [
    {
     "data": {
      "text/plain": [
       "Closed with explanation            700953\n",
       "Closed with non-monetary relief     86924\n",
       "Closed with monetary relief         39307\n",
       "Untimely response                    4237\n",
       "Closed                               3741\n",
       "In progress                            47\n",
       "Name: Company response to consumer, dtype: int64"
      ]
     },
     "execution_count": 30,
     "metadata": {},
     "output_type": "execute_result"
    }
   ],
   "source": [
    "data['Company response to consumer'].value_counts()        "
   ]
  },
  {
   "cell_type": "code",
   "execution_count": 31,
   "metadata": {},
   "outputs": [],
   "source": [
    "data = data.drop(['Company response to consumer'],axis=1)"
   ]
  },
  {
   "cell_type": "code",
   "execution_count": 32,
   "metadata": {},
   "outputs": [],
   "source": [
    "data = data.dropna()"
   ]
  },
  {
   "cell_type": "code",
   "execution_count": 33,
   "metadata": {},
   "outputs": [
    {
     "data": {
      "text/plain": [
       "Product                         0\n",
       "Issue                           0\n",
       "Consumer complaint narrative    0\n",
       "Consumer disputed?              0\n",
       "dtype: int64"
      ]
     },
     "execution_count": 33,
     "metadata": {},
     "output_type": "execute_result"
    }
   ],
   "source": [
    "data.isnull().sum()"
   ]
  },
  {
   "cell_type": "code",
   "execution_count": 36,
   "metadata": {},
   "outputs": [],
   "source": [
    "data.to_csv('Preprocessed raw data.csv',index=False)"
   ]
  }
 ],
 "metadata": {
  "kernelspec": {
   "display_name": "Python 3",
   "language": "python",
   "name": "python3"
  },
  "language_info": {
   "codemirror_mode": {
    "name": "ipython",
    "version": 3
   },
   "file_extension": ".py",
   "mimetype": "text/x-python",
   "name": "python",
   "nbconvert_exporter": "python",
   "pygments_lexer": "ipython3",
   "version": "3.8.3"
  }
 },
 "nbformat": 4,
 "nbformat_minor": 4
}
