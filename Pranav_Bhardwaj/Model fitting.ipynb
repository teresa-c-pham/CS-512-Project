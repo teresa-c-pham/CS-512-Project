{
 "cells": [
  {
   "cell_type": "code",
   "execution_count": 1,
   "metadata": {},
   "outputs": [],
   "source": [
    "import tensorflow as tf\n",
    "import numpy as np"
   ]
  },
  {
   "cell_type": "code",
   "execution_count": 2,
   "metadata": {},
   "outputs": [],
   "source": [
    "import matplotlib.pyplot as plt\n",
    "\n",
    "\n",
    "def plot_graphs(history, metric):\n",
    "  plt.plot(history.history[metric])\n",
    "  plt.plot(history.history['val_'+metric], '')\n",
    "  plt.xlabel(\"Epochs\")\n",
    "  plt.ylabel(metric)\n",
    "  plt.legend([metric, 'val_'+metric])"
   ]
  },
  {
   "cell_type": "code",
   "execution_count": 3,
   "metadata": {},
   "outputs": [],
   "source": [
    "from sklearn import metrics\n",
    "from scipy import stats\n",
    "from imblearn.over_sampling import SMOTE\n",
    "from sklearn.model_selection import GridSearchCV\n",
    "from sklearn.metrics import classification_report, confusion_matrix\n",
    "from sklearn.metrics import precision_recall_curve\n",
    "from sklearn.metrics import plot_precision_recall_curve\n",
    "from sklearn.metrics import precision_score\n",
    "from sklearn.metrics import recall_score\n",
    "from sklearn.metrics import accuracy_score\n",
    "from sklearn.model_selection import train_test_split\n",
    "from sklearn.preprocessing import MinMaxScaler \n",
    "from sklearn.model_selection import RandomizedSearchCV \n",
    "from sklearn.metrics import roc_curve\n",
    "from sklearn.metrics import roc_auc_score"
   ]
  },
  {
   "cell_type": "code",
   "execution_count": 4,
   "metadata": {},
   "outputs": [],
   "source": [
    "import pandas as pd"
   ]
  },
  {
   "cell_type": "code",
   "execution_count": 5,
   "metadata": {},
   "outputs": [],
   "source": [
    "data = pd.read_csv('Preprocessed raw data.csv')"
   ]
  },
  {
   "cell_type": "code",
   "execution_count": 6,
   "metadata": {},
   "outputs": [],
   "source": [
    "X = data['Consumer complaint narrative']"
   ]
  },
  {
   "cell_type": "code",
   "execution_count": 7,
   "metadata": {},
   "outputs": [],
   "source": [
    "y = data['Consumer disputed?']"
   ]
  },
  {
   "cell_type": "code",
   "execution_count": 8,
   "metadata": {},
   "outputs": [],
   "source": [
    "X_train, X_test, y_train, y_test = train_test_split(X, y, train_size=0.8,test_size=0.2,stratify=y)"
   ]
  },
  {
   "cell_type": "code",
   "execution_count": 9,
   "metadata": {},
   "outputs": [
    {
     "name": "stderr",
     "output_type": "stream",
     "text": [
      "[nltk_data] Downloading package stopwords to C:\\Users\\Pranav\n",
      "[nltk_data]     Bhardwaj\\AppData\\Roaming\\nltk_data...\n",
      "[nltk_data]   Package stopwords is already up-to-date!\n"
     ]
    }
   ],
   "source": [
    "import tensorflow as tf\n",
    "import matplotlib.pyplot as plt\n",
    "import pandas as pd\n",
    "import numpy as np\n",
    "\n",
    "\n",
    "import nltk \n",
    "nltk.download('stopwords')\n",
    "from nltk.corpus import stopwords\n",
    "from nltk.stem import SnowballStemmer\n",
    "\n",
    "\n",
    "\n",
    "from sklearn.model_selection import train_test_split\n",
    "from sklearn.preprocessing import LabelEncoder\n",
    "\n",
    "\n",
    "import re"
   ]
  },
  {
   "cell_type": "code",
   "execution_count": 10,
   "metadata": {},
   "outputs": [],
   "source": [
    "stop_words = stopwords.words('english')\n",
    "stemmer = SnowballStemmer('english')\n",
    "\n",
    "text_cleaning_re = \"@\\S+|https?:\\S+|http?:\\S|[^A-Za-z0-9]+\""
   ]
  },
  {
   "cell_type": "code",
   "execution_count": 11,
   "metadata": {},
   "outputs": [],
   "source": [
    "def preprocess(text, stem=False):\n",
    "  text = re.sub(text_cleaning_re, ' ', str(text).lower()).strip()\n",
    "  tokens = []\n",
    "  for token in text.split():\n",
    "    if token not in stop_words and not re.fullmatch(r\"^\\d+$\",token) and not re.fullmatch(r\"^x+$\",token):\n",
    "      if stem:\n",
    "        tokens.append(stemmer.stem(token))\n",
    "      else:\n",
    "         tokens.append(token)\n",
    "  return \" \".join(tokens)"
   ]
  },
  {
   "cell_type": "code",
   "execution_count": 12,
   "metadata": {},
   "outputs": [],
   "source": [
    "X = X.apply(lambda x: preprocess(x))"
   ]
  },
  {
   "cell_type": "code",
   "execution_count": 13,
   "metadata": {},
   "outputs": [],
   "source": [
    "MAX_NB_WORDS = 100000\n",
    "MAX_SEQUENCE_LENGTH = 200"
   ]
  },
  {
   "cell_type": "code",
   "execution_count": 14,
   "metadata": {},
   "outputs": [
    {
     "name": "stdout",
     "output_type": "stream",
     "text": [
      "Vocabulary Size : 70338\n"
     ]
    }
   ],
   "source": [
    "from keras.preprocessing.text import Tokenizer\n",
    "\n",
    "tokenizer = Tokenizer()\n",
    "tokenizer.fit_on_texts(X_train)\n",
    "\n",
    "word_index = tokenizer.word_index\n",
    "vocab_size = len(tokenizer.word_index) + 1\n",
    "print(\"Vocabulary Size :\", vocab_size)"
   ]
  },
  {
   "cell_type": "code",
   "execution_count": 15,
   "metadata": {},
   "outputs": [],
   "source": [
    "from keras.utils import pad_sequences\n",
    "X_train = pad_sequences(tokenizer.texts_to_sequences(X_train),\n",
    "                        maxlen = MAX_SEQUENCE_LENGTH)\n",
    "X_test = pad_sequences(tokenizer.texts_to_sequences(X_test),\n",
    "                       maxlen = MAX_SEQUENCE_LENGTH)"
   ]
  },
  {
   "cell_type": "code",
   "execution_count": 16,
   "metadata": {},
   "outputs": [],
   "source": [
    "y_train = pd.get_dummies(y_train)"
   ]
  },
  {
   "cell_type": "code",
   "execution_count": 17,
   "metadata": {},
   "outputs": [],
   "source": [
    "GLOVE_EMB = 'glove.6B.200d.txt'\n",
    "EMBEDDING_DIM = 200\n",
    "LR = 1e-2\n",
    "BATCH_SIZE = 1000\n",
    "EPOCHS = 10"
   ]
  },
  {
   "cell_type": "code",
   "execution_count": 18,
   "metadata": {},
   "outputs": [
    {
     "name": "stdout",
     "output_type": "stream",
     "text": [
      "Found 400001 word vectors.\n"
     ]
    }
   ],
   "source": [
    "embeddings_index = {}\n",
    "\n",
    "f = open(GLOVE_EMB, encoding='cp437')\n",
    "for line in f:\n",
    "  values = line.split()\n",
    "  word = value = values[0]\n",
    "  coefs = np.asarray(values[1:], dtype='float32')\n",
    "  embeddings_index[word] = coefs\n",
    "f.close()\n",
    "\n",
    "print('Found %s word vectors.' %len(embeddings_index))"
   ]
  },
  {
   "cell_type": "code",
   "execution_count": 19,
   "metadata": {},
   "outputs": [],
   "source": [
    "embedding_matrix = np.zeros((vocab_size, EMBEDDING_DIM))\n",
    "for word, i in word_index.items():\n",
    "  embedding_vector = embeddings_index.get(word)\n",
    "  if embedding_vector is not None:\n",
    "    embedding_matrix[i] = embedding_vector"
   ]
  },
  {
   "cell_type": "code",
   "execution_count": 20,
   "metadata": {},
   "outputs": [],
   "source": [
    "embedding_layer = tf.keras.layers.Embedding(vocab_size,\n",
    "                                          EMBEDDING_DIM,\n",
    "                                          weights=[embedding_matrix],\n",
    "                                          input_length=MAX_SEQUENCE_LENGTH,\n",
    "                                          trainable=False)"
   ]
  },
  {
   "cell_type": "code",
   "execution_count": 21,
   "metadata": {},
   "outputs": [],
   "source": [
    "from keras.models import Sequential\n",
    "from keras.layers import Embedding, SpatialDropout1D, SimpleRNN, LSTM, GRU, Bidirectional, Dense \n",
    "from keras.preprocessing.text import Tokenizer\n",
    "from keras.preprocessing import sequence\n",
    "from keras.callbacks import EarlyStopping, ModelCheckpoint, ReduceLROnPlateau\n",
    "from keras.utils import plot_model\n",
    "from keras.initializers import Constant"
   ]
  },
  {
   "cell_type": "code",
   "execution_count": 22,
   "metadata": {},
   "outputs": [],
   "source": [
    "def plot_model_learning(history, title):\n",
    "    fig, ax = plt.subplots(2, 1, figsize=(20, 8))\n",
    "    df = pd.DataFrame(history.history)\n",
    "    df[['accuracy', 'val_accuracy']].plot(ax=ax[0])\n",
    "    df[['loss', 'val_loss']].plot(ax=ax[1])\n",
    "    ax[0].set_title('Model Accuracy', fontsize=12)\n",
    "    ax[1].set_title('Model Loss', fontsize=12)\n",
    "    fig.suptitle(f'{title}: Model Metrics', fontsize=18)"
   ]
  },
  {
   "cell_type": "code",
   "execution_count": 23,
   "metadata": {},
   "outputs": [],
   "source": [
    "from tensorflow.keras.layers import Conv1D, Dense, Input, Dropout"
   ]
  },
  {
   "cell_type": "code",
   "execution_count": 24,
   "metadata": {},
   "outputs": [],
   "source": [
    "sequence_input = Input(shape=(MAX_SEQUENCE_LENGTH,), dtype='int32')\n",
    "embedding_sequences = embedding_layer(sequence_input)\n",
    "x = SpatialDropout1D(0.2)(embedding_sequences)\n",
    "x = Conv1D(64, 5, activation='relu')(x)\n",
    "x = Bidirectional(GRU(64, dropout=0.2, recurrent_dropout=0.2))(x)\n",
    "x = Dense(200, activation='relu')(x)\n",
    "x = Dropout(0.5)(x)\n",
    "x = Dense(200, activation='relu')(x)\n",
    "outputs = Dense(2, activation='sigmoid')(x)\n",
    "model = tf.keras.Model(sequence_input, outputs)"
   ]
  },
  {
   "cell_type": "code",
   "execution_count": 25,
   "metadata": {},
   "outputs": [
    {
     "name": "stdout",
     "output_type": "stream",
     "text": [
      "Model: \"model\"\n",
      "_________________________________________________________________\n",
      " Layer (type)                Output Shape              Param #   \n",
      "=================================================================\n",
      " input_1 (InputLayer)        [(None, 200)]             0         \n",
      "                                                                 \n",
      " embedding (Embedding)       (None, 200, 200)          14067600  \n",
      "                                                                 \n",
      " spatial_dropout1d (SpatialD  (None, 200, 200)         0         \n",
      " ropout1D)                                                       \n",
      "                                                                 \n",
      " conv1d (Conv1D)             (None, 196, 64)           64064     \n",
      "                                                                 \n",
      " bidirectional (Bidirectiona  (None, 128)              49920     \n",
      " l)                                                              \n",
      "                                                                 \n",
      " dense (Dense)               (None, 200)               25800     \n",
      "                                                                 \n",
      " dropout (Dropout)           (None, 200)               0         \n",
      "                                                                 \n",
      " dense_1 (Dense)             (None, 200)               40200     \n",
      "                                                                 \n",
      " dense_2 (Dense)             (None, 2)                 402       \n",
      "                                                                 \n",
      "=================================================================\n",
      "Total params: 14,247,986\n",
      "Trainable params: 180,386\n",
      "Non-trainable params: 14,067,600\n",
      "_________________________________________________________________\n",
      "You must install pydot (`pip install pydot`) and install graphviz (see instructions at https://graphviz.gitlab.io/download/) for plot_model to work.\n",
      "Epoch 1/10\n",
      "119/119 [==============================] - ETA: 0s - loss: 0.5263 - accuracy: 0.7814\n",
      "Epoch 1: loss improved from inf to 0.52635, saving model to model.h5\n",
      "119/119 [==============================] - 787s 7s/step - loss: 0.5263 - accuracy: 0.7814 - val_loss: 0.5238 - val_accuracy: 0.7831 - lr: 0.0010\n",
      "Epoch 2/10\n",
      "119/119 [==============================] - ETA: 0s - loss: 0.5206 - accuracy: 0.7816\n",
      "Epoch 2: loss improved from 0.52635 to 0.52060, saving model to model.h5\n",
      "119/119 [==============================] - 1033s 9s/step - loss: 0.5206 - accuracy: 0.7816 - val_loss: 0.5246 - val_accuracy: 0.7831 - lr: 0.0010\n",
      "Epoch 3/10\n",
      "119/119 [==============================] - ETA: 0s - loss: 0.5187 - accuracy: 0.7816\n",
      "Epoch 3: loss improved from 0.52060 to 0.51868, saving model to model.h5\n",
      "119/119 [==============================] - 1160s 10s/step - loss: 0.5187 - accuracy: 0.7816 - val_loss: 0.5178 - val_accuracy: 0.7831 - lr: 0.0010\n",
      "Epoch 4/10\n",
      "119/119 [==============================] - ETA: 0s - loss: 0.5160 - accuracy: 0.7816 \n",
      "Epoch 4: loss improved from 0.51868 to 0.51600, saving model to model.h5\n",
      "119/119 [==============================] - 1237s 10s/step - loss: 0.5160 - accuracy: 0.7816 - val_loss: 0.5182 - val_accuracy: 0.7831 - lr: 0.0010\n",
      "Epoch 5/10\n",
      "119/119 [==============================] - ETA: 0s - loss: 0.5128 - accuracy: 0.7815 \n",
      "Epoch 5: loss improved from 0.51600 to 0.51278, saving model to model.h5\n",
      "119/119 [==============================] - 1241s 10s/step - loss: 0.5128 - accuracy: 0.7815 - val_loss: 0.5320 - val_accuracy: 0.7831 - lr: 0.0010\n",
      "Epoch 6/10\n",
      "119/119 [==============================] - ETA: 0s - loss: 0.5107 - accuracy: 0.7815 \n",
      "Epoch 6: loss improved from 0.51278 to 0.51068, saving model to model.h5\n",
      "119/119 [==============================] - 1266s 11s/step - loss: 0.5107 - accuracy: 0.7815 - val_loss: 0.5125 - val_accuracy: 0.7831 - lr: 0.0010\n",
      "Epoch 7/10\n",
      "119/119 [==============================] - ETA: 0s - loss: 0.5072 - accuracy: 0.7820 \n",
      "Epoch 7: loss improved from 0.51068 to 0.50722, saving model to model.h5\n",
      "119/119 [==============================] - 1227s 10s/step - loss: 0.5072 - accuracy: 0.7820 - val_loss: 0.5118 - val_accuracy: 0.7833 - lr: 0.0010\n",
      "Epoch 8/10\n",
      "119/119 [==============================] - ETA: 0s - loss: 0.5042 - accuracy: 0.7820 \n",
      "Epoch 8: loss improved from 0.50722 to 0.50425, saving model to model.h5\n",
      "119/119 [==============================] - 1220s 10s/step - loss: 0.5042 - accuracy: 0.7820 - val_loss: 0.5083 - val_accuracy: 0.7822 - lr: 0.0010\n",
      "Epoch 9/10\n",
      "119/119 [==============================] - ETA: 0s - loss: 0.5011 - accuracy: 0.7830 \n",
      "Epoch 9: loss improved from 0.50425 to 0.50107, saving model to model.h5\n",
      "119/119 [==============================] - 1343s 11s/step - loss: 0.5011 - accuracy: 0.7830 - val_loss: 0.5134 - val_accuracy: 0.7810 - lr: 0.0010\n",
      "Epoch 10/10\n",
      "119/119 [==============================] - ETA: 0s - loss: 0.4978 - accuracy: 0.7831 \n",
      "Epoch 10: loss improved from 0.50107 to 0.49784, saving model to model.h5\n",
      "119/119 [==============================] - 1274s 11s/step - loss: 0.4978 - accuracy: 0.7831 - val_loss: 0.5176 - val_accuracy: 0.7833 - lr: 0.0010\n"
     ]
    }
   ],
   "source": [
    "from tensorflow.keras.optimizers import Adam\n",
    "from tensorflow.keras.callbacks import ReduceLROnPlateau\n",
    "\n",
    "es = EarlyStopping(monitor='val_loss', mode='min', verbose=1, patience=7)\n",
    "filepath = \"model.h5\"\n",
    "ckpt = ModelCheckpoint(filepath, monitor='loss', verbose=1, save_best_only=True, mode='min')\n",
    "rlp = ReduceLROnPlateau(monitor='loss', patience=3, verbose=1)\n",
    "\n",
    "model.compile(loss='categorical_crossentropy', optimizer='adam', metrics=['accuracy'])\n",
    "\n",
    "model.summary()\n",
    "plot_model(model, show_shapes=True)\n",
    "\n",
    "history = model.fit(x=X_train, y=y_train, batch_size=BATCH_SIZE, validation_split=0.1,\n",
    "    callbacks=[es, ckpt, rlp], epochs=EPOCHS\n",
    ")"
   ]
  },
  {
   "cell_type": "code",
   "execution_count": 26,
   "metadata": {},
   "outputs": [
    {
     "data": {
      "image/png": "[encoded data removed]",
      "text/plain": [
       "<Figure size 1440x576 with 2 Axes>"
      ]
     },
     "metadata": {
      "needs_background": "light"
     },
     "output_type": "display_data"
    }
   ],
   "source": [
    "plot_model_learning(history, 'BiGRU')"
   ]
  },
  {
   "cell_type": "code",
   "execution_count": 27,
   "metadata": {},
   "outputs": [
    {
     "name": "stdout",
     "output_type": "stream",
     "text": [
      "4/4 [==============================] - 73s 17s/step\n"
     ]
    }
   ],
   "source": [
    "def decode_sentiment(score):\n",
    "    return \"No\" if score[0]>score[1] else \"Yes\"\n",
    "\n",
    "\n",
    "scores = model.predict(X_test, verbose=1, batch_size=10000)\n",
    "y_pred_1d = [decode_sentiment(score) for score in scores]"
   ]
  },
  {
   "cell_type": "code",
   "execution_count": 28,
   "metadata": {},
   "outputs": [
    {
     "name": "stdout",
     "output_type": "stream",
     "text": [
      "              precision    recall  f1-score   support\n",
      "\n",
      "          No       0.78      0.99      0.88     25651\n",
      "         Yes       0.44      0.02      0.03      7162\n",
      "\n",
      "    accuracy                           0.78     32813\n",
      "   macro avg       0.61      0.51      0.45     32813\n",
      "weighted avg       0.71      0.78      0.69     32813\n",
      "\n"
     ]
    }
   ],
   "source": [
    "print(classification_report(y_test.to_list(), y_pred_1d))"
   ]
  }
 ],
 "metadata": {
  "kernelspec": {
   "display_name": "Python 3",
   "language": "python",
   "name": "python3"
  },
  "language_info": {
   "codemirror_mode": {
    "name": "ipython",
    "version": 3
   },
   "file_extension": ".py",
   "mimetype": "text/x-python",
   "name": "python",
   "nbconvert_exporter": "python",
   "pygments_lexer": "ipython3",
   "version": "3.8.3"
  }
 },
 "nbformat": 4,
 "nbformat_minor": 4
}
